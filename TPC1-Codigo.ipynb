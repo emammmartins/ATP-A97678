{
 "cells": [
  {
   "cell_type": "code",
   "execution_count": null,
   "id": "e0fcb210",
   "metadata": {},
   "outputs": [],
   "source": [
    "# -*- coding: utf-8 -*-\n",
    "\"\"\"\n",
    "DESCOBRIR O NUMERO\n",
    "\"\"\"\n",
    "def jogo(minimo,maximo,contar):\n",
    "    aux=int((maximo+minimo)/2)\n",
    "    c=\"É maior que \"+ str(aux)\n",
    "    b=input(c)\n",
    "    if b!=\"+\" and b!=\"-\" and b!=\"=\":\n",
    "        print(\"Errooooooo\")\n",
    "        jogo(minimo,maximo,contar)\n",
    "    if b==\"=\":\n",
    "         contar=contar+1\n",
    "         print(\"O numero é\", aux)\n",
    "         print(\"Procurou\", contar, \"vezes\")\n",
    "         \n",
    "    if b==\"+\":\n",
    "        contar=contar+1\n",
    "        minimo=aux\n",
    "        jogo(minimo,maximo,contar)\n",
    "    elif b==\"-\":\n",
    "        contar=contar+1\n",
    "        maximo=aux\n",
    "        jogo(minimo,maximo,contar)\n",
    "            \n",
    "print(\"Imagine um número entre 1 e 100\")\n",
    "print(\"Responda com + se for maior,- se for menor e = se for igual\")\n",
    "             \n",
    "jogo(int(1),int(100),int(0)) \n"
   ]
  }
 ],
 "metadata": {
  "kernelspec": {
   "display_name": "Python 3",
   "language": "python",
   "name": "python3"
  },
  "language_info": {
   "codemirror_mode": {
    "name": "ipython",
    "version": 3
   },
   "file_extension": ".py",
   "mimetype": "text/x-python",
   "name": "python",
   "nbconvert_exporter": "python",
   "pygments_lexer": "ipython3",
   "version": "3.8.8"
  }
 },
 "nbformat": 4,
 "nbformat_minor": 5
}
